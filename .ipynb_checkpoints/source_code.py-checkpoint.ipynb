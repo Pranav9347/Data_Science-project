{
 "cells": [
  {
   "cell_type": "code",
   "execution_count": 5,
   "id": "e0b612cf",
   "metadata": {},
   "outputs": [
    {
     "name": "stdout",
     "output_type": "stream",
     "text": [
      "   Employee_ID        Department  Gender  Age   Job_Title  \\\n",
      "0            1                IT    Male   55  Specialist   \n",
      "1            2           Finance    Male   29   Developer   \n",
      "2            3           Finance    Male   55  Specialist   \n",
      "3            4  Customer Support  Female   48     Analyst   \n",
      "4            5       Engineering  Female   36     Analyst   \n",
      "\n",
      "                    Hire_Date  Years_At_Company Education_Level  \\\n",
      "0  2022-01-19 08:03:05.556036                 2     High School   \n",
      "1  2024-04-18 08:03:05.556036                 0     High School   \n",
      "2  2015-10-26 08:03:05.556036                 8     High School   \n",
      "3  2016-10-22 08:03:05.556036                 7        Bachelor   \n",
      "4  2021-07-23 08:03:05.556036                 3        Bachelor   \n",
      "\n",
      "   Performance_Score  Monthly_Salary  Work_Hours_Per_Week  Projects_Handled  \\\n",
      "0                  5          6750.0                   33                32   \n",
      "1                  5          7500.0                   34                34   \n",
      "2                  3          5850.0                   37                27   \n",
      "3                  2          4800.0                   52                10   \n",
      "4                  2          4800.0                   38                11   \n",
      "\n",
      "   Overtime_Hours  Sick_Days  Remote_Work_Frequency  Team_Size  \\\n",
      "0              22          2                      0         14   \n",
      "1              13         14                    100         12   \n",
      "2               6          3                     50         10   \n",
      "3              28         12                    100         10   \n",
      "4              29         13                    100         15   \n",
      "\n",
      "   Training_Hours  Promotions  Employee_Satisfaction_Score  Resigned  \n",
      "0              66           0                         2.63     False  \n",
      "1              61           2                         1.72     False  \n",
      "2               1           0                         3.17     False  \n",
      "3               0           1                         1.86     False  \n",
      "4               9           1                         1.25     False  \n",
      "(100000, 20)\n",
      "No. of rows: 100000\n"
     ]
    }
   ],
   "source": [
    "# Get the dataset:\n",
    "\n",
    "import pandas as pd\n",
    "file = pd.read_csv('Extended_Employee_Performance_and_Productivity_Data.csv')\n",
    "df = pd.DataFrame(file)\n",
    "print(df.head())\n",
    "print(df.shape)        # Dimensions (rows, columns)\n",
    "print(\"No. of rows:\",len(df))"
   ]
  },
  {
   "cell_type": "code",
   "execution_count": 8,
   "id": "c754390e",
   "metadata": {},
   "outputs": [
    {
     "data": {
      "text/plain": [
       "0"
      ]
     },
     "execution_count": 8,
     "metadata": {},
     "output_type": "execute_result"
    }
   ],
   "source": [
    "# Data pre-processing:\n",
    "\n",
    "len(df[df.duplicated()])\n"
   ]
  },
  {
   "cell_type": "code",
   "execution_count": null,
   "id": "a1cd5695",
   "metadata": {},
   "outputs": [],
   "source": []
  }
 ],
 "metadata": {
  "kernelspec": {
   "display_name": "Python (myenv)",
   "language": "python",
   "name": "myenv"
  },
  "language_info": {
   "codemirror_mode": {
    "name": "ipython",
    "version": 3
   },
   "file_extension": ".py",
   "mimetype": "text/x-python",
   "name": "python",
   "nbconvert_exporter": "python",
   "pygments_lexer": "ipython3",
   "version": "3.12.3"
  }
 },
 "nbformat": 4,
 "nbformat_minor": 5
}
